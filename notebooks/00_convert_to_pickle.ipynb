{
 "cells": [
  {
   "cell_type": "code",
   "execution_count": 1,
   "id": "ca465a3a",
   "metadata": {},
   "outputs": [],
   "source": [
    "import pandas as pd\n",
    "\n",
    "path_to_data = \"../data/synthetic_case\"\n",
    "\n",
    "df_int = pd.read_csv(f\"{path_to_data}/observations.csv\")\n",
    "df_int = df_int.set_index([\"X\", \"Y\"]).sort_index()\n",
    "df_int.to_pickle(f\"{path_to_data}/observations.pkl\")\n",
    "\n",
    "df_err = pd.read_csv(f\"{path_to_data}/sigma.csv\")\n",
    "df_err = df_err.set_index([\"X\", \"Y\"]).sort_index()\n",
    "df_err.to_pickle(f\"{path_to_data}/sigma.pkl\")"
   ]
  },
  {
   "cell_type": "code",
   "execution_count": null,
   "id": "d381c35d",
   "metadata": {},
   "outputs": [],
   "source": []
  }
 ],
 "metadata": {
  "kernelspec": {
   "display_name": "Python 3",
   "language": "python",
   "name": "python3"
  },
  "language_info": {
   "codemirror_mode": {
    "name": "ipython",
    "version": 3
   },
   "file_extension": ".py",
   "mimetype": "text/x-python",
   "name": "python",
   "nbconvert_exporter": "python",
   "pygments_lexer": "ipython3",
   "version": "3.10.18"
  }
 },
 "nbformat": 4,
 "nbformat_minor": 5
}
